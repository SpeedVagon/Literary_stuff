{
 "cells": [
  {
   "cell_type": "code",
   "execution_count": 32,
   "metadata": {},
   "outputs": [
    {
     "name": "stdout",
     "output_type": "stream",
     "text": [
      "<_sre.SRE_Match object; span=(0, 5), match='1.1. '>\n",
      "1\n",
      "<_sre.SRE_Match object; span=(0, 5), match='1.2. '>\n",
      "2\n",
      "<_sre.SRE_Match object; span=(0, 5), match='1.3. '>\n",
      "3\n",
      "<_sre.SRE_Match object; span=(0, 5), match='2.1. '>\n",
      "4\n",
      "<_sre.SRE_Match object; span=(0, 4), match='2.2 '>\n",
      "5\n",
      "<_sre.SRE_Match object; span=(0, 5), match='3.1. '>\n",
      "6\n",
      "<_sre.SRE_Match object; span=(0, 5), match='3.2. '>\n",
      "7\n",
      "<_sre.SRE_Match object; span=(0, 4), match='4.1 '>\n",
      "8\n",
      "<_sre.SRE_Match object; span=(0, 5), match='4.2. '>\n",
      "9\n"
     ]
    },
    {
     "data": {
      "text/plain": [
       "True"
      ]
     },
     "execution_count": 32,
     "metadata": {},
     "output_type": "execute_result"
    }
   ],
   "source": [
    "import re\n",
    "import os\n",
    "from os import path\n",
    "\n",
    "if path.exists('C:\\\\Users\\\\admin\\\\corpus_data\\\\') == True:\n",
    "    pass\n",
    "elif path.exists('C:\\\\Users\\\\admin\\\\corpus_data\\\\') == False:\n",
    "    os.mkdir('corpus_data')\n",
    "    \n",
    "    \n",
    "pattern = re.compile(r'\\d\\.\\d.?\\s')\n",
    "\n",
    "with open('Fuji.txt', 'r', encoding='utf-8') as fp:\n",
    "    doc = fp.readlines()\n",
    "    n = 0\n",
    "    for line in doc:\n",
    "        if n == 0:\n",
    "            output = open('corpus_data\\intro.txt'.format(n), 'w', encoding='utf-8')\n",
    "            output.write(line)\n",
    "        matches = pattern.finditer(line)\n",
    "\n",
    "        for match in matches:\n",
    "            print(match)\n",
    "            n += 1\n",
    "            print(n)\n",
    "            output = open('corpus_data\\chapter_{}.txt'.format(n), 'w', encoding='utf-8')\n",
    "        output.write(line)\n",
    "        \n",
    "    output.close()"
   ]
  },
  {
   "cell_type": "code",
   "execution_count": null,
   "metadata": {},
   "outputs": [],
   "source": []
  },
  {
   "cell_type": "code",
   "execution_count": null,
   "metadata": {},
   "outputs": [],
   "source": []
  }
 ],
 "metadata": {
  "kernelspec": {
   "display_name": "Python 3",
   "language": "python",
   "name": "python3"
  },
  "language_info": {
   "codemirror_mode": {
    "name": "ipython",
    "version": 3
   },
   "file_extension": ".py",
   "mimetype": "text/x-python",
   "name": "python",
   "nbconvert_exporter": "python",
   "pygments_lexer": "ipython3",
   "version": "3.6.5"
  }
 },
 "nbformat": 4,
 "nbformat_minor": 2
}
