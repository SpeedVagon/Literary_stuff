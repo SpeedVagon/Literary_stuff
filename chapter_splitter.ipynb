{
 "cells": [
  {
   "cell_type": "code",
   "execution_count": 15,
   "metadata": {},
   "outputs": [
    {
     "data": {
      "text/plain": [
       "'Your file was split up into 9 chapters and intro-file'"
      ]
     },
     "execution_count": 15,
     "metadata": {},
     "output_type": "execute_result"
    }
   ],
   "source": [
    "import re\n",
    "import os\n",
    "from os import path\n",
    "from pathlib import Path\n",
    "\"\"\"The function splits up .txt utf-8 file into separate files by chapters and saves them in corpus_data directory.\n",
    "To call the function, put a file-path and re-pattern as arguments\"\"\"\n",
    "def chapter_splitter(file, pattern):\n",
    "\n",
    "    if path.exists('C:\\\\Users\\\\administrator\\\\corpus_data\\\\') == True:\n",
    "        pass\n",
    "    elif path.exists('C:\\\\Users\\\\administrator\\\\corpus_data\\\\') == False:\n",
    "        os.mkdir('corpus_data')\n",
    "    \n",
    "    \n",
    "    pattern = re.compile(pattern)\n",
    "\n",
    "    with open(file, 'r', encoding='utf-8') as fp:\n",
    "        doc = fp.readlines()\n",
    "        n = 0 #Chapter number counter\n",
    "        chapter_path = []\n",
    "        for line in doc:\n",
    "            if n == 0:\n",
    "                output = open('corpus_data\\intro.txt'.format(n), 'w', encoding='utf-8') #TO FIX INTRO!!\n",
    "                output.write(line)\n",
    "            matches = pattern.finditer(line)\n",
    "\n",
    "            for match in matches:\n",
    "                n += 1\n",
    "                output = open('corpus_data\\chapter_{}.txt'.format(n), 'w', encoding='utf-8')\n",
    "                chapter_path += [Path('corpus_data\\chapter_{}'.format(n)).absolute()]\n",
    "            output.write(line)\n",
    "\n",
    "        output.close()\n",
    "        \n",
    "        return (i for i in chapter_path)\n",
    "    \n",
    "ch = chapter_splitter('Fuji.txt', r'\\d\\.\\d.?\\s')"
   ]
  },
  {
   "cell_type": "code",
   "execution_count": null,
   "metadata": {},
   "outputs": [],
   "source": []
  },
  {
   "cell_type": "code",
   "execution_count": null,
   "metadata": {},
   "outputs": [],
   "source": []
  }
 ],
 "metadata": {
  "kernelspec": {
   "display_name": "Python 3",
   "language": "python",
   "name": "python3"
  },
  "language_info": {
   "codemirror_mode": {
    "name": "ipython",
    "version": 3
   },
   "file_extension": ".py",
   "mimetype": "text/x-python",
   "name": "python",
   "nbconvert_exporter": "python",
   "pygments_lexer": "ipython3",
   "version": "3.8.5"
  }
 },
 "nbformat": 4,
 "nbformat_minor": 2
}
