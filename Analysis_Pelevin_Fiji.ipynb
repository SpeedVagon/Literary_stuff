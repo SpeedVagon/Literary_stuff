{
 "cells": [
  {
   "cell_type": "code",
   "execution_count": 68,
   "metadata": {},
   "outputs": [],
   "source": [
    "from nltk.tokenize import TreebankWordTokenizer\n",
    "from pymystem3 import Mystem\n",
    "from nltk.tokenize import sent_tokenize\n",
    "import copy\n",
    "import pandas as pd\n",
    "from collections import Counter\n",
    "import nltk\n",
    "\n",
    "#fp = open('Pelevin_Fuji_raw.txt')\n",
    "#data = fp.read()\n",
    "#sent_split = sent_tokenize(data)"
   ]
  },
  {
   "cell_type": "code",
   "execution_count": 69,
   "metadata": {
    "scrolled": false
   },
   "outputs": [],
   "source": [
    "tokenizer = TreebankWordTokenizer()"
   ]
  },
  {
   "cell_type": "code",
   "execution_count": 70,
   "metadata": {},
   "outputs": [],
   "source": [
    "doc_tokens = []\n",
    "for line in sent_split:    \n",
    "    doc_tokens += [sorted(tokenizer.tokenize(line.lower()))]"
   ]
  },
  {
   "cell_type": "code",
   "execution_count": 71,
   "metadata": {
    "scrolled": true
   },
   "outputs": [
    {
     "name": "stdout",
     "output_type": "stream",
     "text": [
      "Объем лексикона (словоформы) без стопслов: 19652\n",
      "Количество токенов без стопслов и знаков препинания: 47104\n"
     ]
    }
   ],
   "source": [
    "puncs = set((',', '.', '!', '?', ':', ':', '\"\"', '—', '«', '»', ')', '(', ';',\n",
    "            ', ', '. ', '! ', '? ', ': ', '\"\"', '— ', '« ', '» ', ') ', '(', '; ',\n",
    "            ' — ', ', — ', '; ', ' (', ' «', '-', '), ', ': «', '», ', ']',\n",
    "            '[', '] ', '1', '2', '3', '4', '5', '6', '7', '8', '9', '0', '–', '…'))\n",
    "stopwords = nltk.corpus.stopwords.words('russian')\n",
    "stopwords += set(('это', 'сказал', 'сказала', 'очень', 'просто', 'такое', 'что-то', 'тебе',\n",
    "                 'вообще','сразу','несколько','почему','именно','самое','спросил','сказать','ответила'))\n",
    "all_doc_tokens = sum(doc_tokens, [])\n",
    "\n",
    "word_list = [x for x in all_doc_tokens \n",
    "             if x not in puncs \n",
    "             if x not in stopwords]\n",
    "\n",
    "lexicon = sorted(set(word_list))\n",
    "count_words = Counter(word_list)\n",
    "print('Объем лексикона (словоформы) без стопслов:', len(lexicon))\n",
    "print('Количество токенов без стопслов и знаков препинания:', len(word_list))\n",
    "#count_words.most_common(30)"
   ]
  },
  {
   "cell_type": "code",
   "execution_count": 72,
   "metadata": {},
   "outputs": [],
   "source": [
    "fp = open('Pelevin_Fuji_raw.txt', 'r')\n",
    "data = fp.read()\n",
    "\n",
    "def clean_chapters(data):\n",
    "    memo_lemmas_copy = []\n",
    "    for chapter in data.split('\\n\\n'):\n",
    "        memo_lemmas_copy += [copy.copy(chapter)]\n",
    "\n",
    "    return memo_lemmas_copy\n",
    "\n",
    "corpus_ch = clean_chapters(data)\n",
    "#corpus_ch"
   ]
  },
  {
   "cell_type": "code",
   "execution_count": 73,
   "metadata": {
    "scrolled": true
   },
   "outputs": [],
   "source": [
    "\n",
    "fp = open('Pelevin_Fuji_raw.txt', 'r')\n",
    "data = fp.read()\n",
    "sent_split = sent_tokenize(data)\n",
    "len(sent_split)\n",
    "\n",
    "\"\"\"Splits text on sentences and saves them into a list without keeping chapters splitted. \n",
    "    Removes punctuation\"\"\"\n",
    "def clean_sentences(text):\n",
    "    puncs = set((',', '.', '!', '?', ':', ':', '\"\"', '—', '«', '»', ')', '(', ';',\n",
    "                 ', ', '. ', '! ', '? ', ': ', '\"\"', '— ', '« ', '» ', ') ', '(', '; ',\n",
    "            ' — ', ', — ', '; ', ' (', ' «', '-', '), ', ': «', '», ', ']',\n",
    "            '[', '] ', '1', '2', '3', '4', '5', '6', '7', '8', '9', '0', '–', '…'))\n",
    "    stopwords = nltk.corpus.stopwords.words('russian')\n",
    "    \n",
    "    memo_lemmas_copy = []\n",
    "    for sentence in sent_split:\n",
    "        memo_lemmas_copy += [copy.copy(sentence)]\n",
    "        \n",
    "    memo_lemmas_copy = [(letter.replace('\\n', ' ') for letter in sentence) #turn it off to split chapters\n",
    "                       for sentence in memo_lemmas_copy]\n",
    "    memo_lemmas_copy = [''.join(letter for letter in sentence if letter not in puncs)\n",
    "                        for sentence in memo_lemmas_copy]\n",
    "\n",
    "    df = pd.DataFrame(memo_lemmas_copy, columns=['text'])\n",
    "    return df\n",
    "\n",
    "corpus = clean_sentences(data)\n",
    "#corpus"
   ]
  },
  {
   "cell_type": "code",
   "execution_count": 74,
   "metadata": {},
   "outputs": [],
   "source": [
    "from sklearn.feature_extraction.text import TfidfVectorizer\n",
    "from nltk.tokenize.casual import casual_tokenize\n",
    "\n",
    "tfidf = TfidfVectorizer(tokenizer=casual_tokenize)\n",
    "tfidf_docs = tfidf.fit_transform(raw_documents=corpus.text).toarray()\n",
    "\n",
    "tfidf_docs = pd.DataFrame(tfidf_docs)\n",
    "tfidf_docs = tfidf_docs - tfidf_docs.mean()\n",
    "#tfidf_docs.shape"
   ]
  },
  {
   "cell_type": "code",
   "execution_count": 75,
   "metadata": {
    "scrolled": true
   },
   "outputs": [],
   "source": [
    "from sklearn.decomposition import PCA\n",
    "\n",
    "pca = PCA(n_components=16)\n",
    "pca = pca.fit(tfidf_docs)\n",
    "pca_topic_vectors = pca.transform(tfidf_docs)\n",
    "index = ['sentence{}'.format(i) for i in range(len(corpus))]\n",
    "columns = ['topic{}'.format(i) for i in range(pca.n_components)]\n",
    "pca_topic_vectors = pd.DataFrame(pca_topic_vectors, columns=columns, index=index)\n",
    "#pca_topic_vectors.round(2).head(106)"
   ]
  },
  {
   "cell_type": "code",
   "execution_count": 76,
   "metadata": {},
   "outputs": [],
   "source": [
    "column_nums, terms = zip(*sorted(zip(tfidf.vocabulary_.values(), tfidf.vocabulary_.keys())))\n",
    "#terms"
   ]
  },
  {
   "cell_type": "code",
   "execution_count": 77,
   "metadata": {},
   "outputs": [],
   "source": [
    "weights = pd.DataFrame(pca.components_, columns=terms, index=['topic{}'.format(i) for i in range(16)])\n",
    "pd.options.display.max_columns = 8\n",
    "#weights.head(10).round(3)"
   ]
  },
  {
   "cell_type": "code",
   "execution_count": 78,
   "metadata": {},
   "outputs": [],
   "source": [
    "pd.options.display.max_columns = 12\n",
    "deals = weights['душа тело женщина душа тяжесть'.split()].round(3)*100\n",
    "#deals"
   ]
  },
  {
   "cell_type": "code",
   "execution_count": 79,
   "metadata": {},
   "outputs": [],
   "source": [
    "#deals.T.sum()"
   ]
  },
  {
   "cell_type": "code",
   "execution_count": 80,
   "metadata": {},
   "outputs": [],
   "source": [
    "from sklearn.decomposition import TruncatedSVD\n",
    "\n",
    "svd = TruncatedSVD(n_components=16, n_iter=100)\n",
    "svd_topic_vectors = svd.fit_transform(tfidf_docs.values)\n",
    "svd_topic_vectors = pd.DataFrame(svd_topic_vectors, columns=columns, index=index)\n",
    "#svd_topic_vectors.round(3).head(6)"
   ]
  },
  {
   "cell_type": "code",
   "execution_count": 45,
   "metadata": {},
   "outputs": [],
   "source": [
    "import numpy as np\n",
    "from sklearn.feature_extraction.text import CountVectorizer\n",
    "from nltk.tokenize import casual_tokenize\n",
    "np.random.seed(42)\n",
    "\n",
    "counter = CountVectorizer(tokenizer=casual_tokenize)\n",
    "bow_docs = pd.DataFrame(counter.fit_transform(raw_documents=corpus.text).toarray(), index=index)\n",
    "column_nums, terms = zip(*sorted(zip(counter.vocabulary_.values(), counter.vocabulary_.keys())))\n",
    "bow_docs.columns = terms"
   ]
  },
  {
   "cell_type": "code",
   "execution_count": 81,
   "metadata": {
    "scrolled": false
   },
   "outputs": [],
   "source": [
    "#corpus.loc[50].text"
   ]
  },
  {
   "cell_type": "code",
   "execution_count": 82,
   "metadata": {},
   "outputs": [],
   "source": [
    "from sklearn.decomposition import LatentDirichletAllocation as LDiA\n",
    "\n",
    "ldia = LDiA(n_components=16, learning_method='batch')\n",
    "ldia = ldia.fit(bow_docs)\n",
    "#ldia.components_.shape"
   ]
  },
  {
   "cell_type": "code",
   "execution_count": 83,
   "metadata": {},
   "outputs": [],
   "source": [
    "pd.set_option('display.width', 75)\n",
    "components = pd.DataFrame(ldia.components_.T, index=terms, columns=columns)\n",
    "#components.round(2).head(3)"
   ]
  },
  {
   "cell_type": "code",
   "execution_count": 84,
   "metadata": {
    "scrolled": false
   },
   "outputs": [],
   "source": [
    "#components.topic11.sort_values(ascending=False)[:60]"
   ]
  },
  {
   "cell_type": "code",
   "execution_count": null,
   "metadata": {},
   "outputs": [],
   "source": []
  }
 ],
 "metadata": {
  "kernelspec": {
   "display_name": "Python 3",
   "language": "python",
   "name": "python3"
  },
  "language_info": {
   "codemirror_mode": {
    "name": "ipython",
    "version": 3
   },
   "file_extension": ".py",
   "mimetype": "text/x-python",
   "name": "python",
   "nbconvert_exporter": "python",
   "pygments_lexer": "ipython3",
   "version": "3.8.5"
  }
 },
 "nbformat": 4,
 "nbformat_minor": 2
}
