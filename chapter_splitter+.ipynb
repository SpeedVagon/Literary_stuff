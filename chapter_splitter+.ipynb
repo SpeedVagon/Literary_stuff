{
 "cells": [
  {
   "cell_type": "code",
   "execution_count": 164,
   "metadata": {
    "scrolled": true
   },
   "outputs": [],
   "source": [
    "import re\n",
    "import os\n",
    "from os import path\n",
    "import types\n",
    "import nltk\n",
    "import pandas as pd\n",
    "from nltk.tokenize import sent_tokenize\n",
    "import types\n",
    "\n",
    "def chapter_splitter(file, pattern): #THE FUNCTION IS OPTIONAL. TO DELIGATE FUNCTIONALITY: 1) PATH CHECKER/MAKER\n",
    "    #2) FILE SPLITTER 3) CHAPTER MAKER\n",
    "    \"\"\"The function splits up .txt utf-8 file into separate files by chapters and saves them \n",
    "    in corpus_data directory. To call the function, put a file-path and re-pattern as arguments. \n",
    "    Returns a generator with file-paths of the chapters for processing by other functions\"\"\"\n",
    "    current_path = os.getcwd()\n",
    "    current_path = current_path+'\\\\corpus_data\\\\'\n",
    "    if path.exists(current_path) == True:\n",
    "        pass\n",
    "    elif path.exists(current_path) == False:\n",
    "        os.mkdir('corpus_data')\n",
    "    \n",
    "    pattern = re.compile(pattern)\n",
    "\n",
    "    with open(file, 'r', encoding='utf-8') as fp:\n",
    "        doc = fp.readlines()\n",
    "        n = 0 #Chapter number counter\n",
    "        chapter_path = []\n",
    "        for line in doc:\n",
    "            if n == 0:\n",
    "                output = open('corpus_data\\intro.txt'.format(n), 'w', encoding='utf-8') #TO FIX INTRO!!\n",
    "                output.write(line)\n",
    "            matches = pattern.finditer(line)\n",
    "\n",
    "            for match in matches:\n",
    "                n += 1\n",
    "                output = open('corpus_data\\chapter_{}.txt'.format(n), 'w', encoding='utf-8')\n",
    "                chapter_path += ['corpus_data\\\\chapter_{}.txt'.format(n)]\n",
    "            output.write(line)\n",
    "\n",
    "        output.close()\n",
    "\n",
    "        for chapter in chapter_path: yield chapter #Generator with filepaths\n",
    "    \n",
    "ch = chapter_splitter('Fuji_lemmatizedUTF.txt', r'\\d\\.\\d.?\\s')\n",
    "\n",
    "\n",
    "\n",
    "def sent_splitter(file_path_input): #THE FUNCTION IS NECESSARY, IT SHOULD BE ABLE TO TAKE CHAPTER_SPLITTER FUNC\n",
    "    #TO MAKE TWO FUNCTIONS AND DELEGATE PART OF FUNCTIONALITY: 1) SORTING; 2) SPLITTING\n",
    "    \"\"\"Sent_splitter can be used with chapter_splitter or without it.\n",
    "    Splits text on sentences and saves them into a list. Takes on filepath as an argument (string)\n",
    "    or multiple filepaths packed in a list of strings or a generator. Removes punctuation\"\"\"\n",
    "    \n",
    "    if isinstance(file_path_input, str): \n",
    "        print('The file type is a string. A single file has passed.')\n",
    "        with open(file_path_input, 'r', encoding='utf-8') as fp:\n",
    "            fp = fp.read() #TO READLINES()\n",
    "        return sent_tokenize(fp)\n",
    "\n",
    "    \n",
    "    elif isinstance(file_path_input, types.GeneratorType):      \n",
    "        print('The file type is a generator. Multiple files have passed.')\n",
    "        for file in file_path_input:\n",
    "            with open(file, 'r', encoding='utf-8') as fp:\n",
    "                fp = fp.read() #TO READLINES()\n",
    "                return sent_tokenize(fp)\n",
    "\n",
    "        \n",
    "    elif isinstance(file_path_input, list):\n",
    "        print('The file type is a list. Multiple files have passed.')\n",
    "        for file in file_path_input:\n",
    "            with open(file, 'r', encoding='utf-8') as fp:\n",
    "                fp = fp.read() #TO READLINES()\n",
    "                return sent_tokenize(fp)\n",
    "\n",
    "    else:\n",
    "        print('Unexpected error occured. The data type is a {}'.format(type(file_path_input)))\n",
    "\n",
    "#sent = sent_splitter(ch)\n",
    "chapter_gen = (sent_splitter(i) for i in ch)\n",
    "\n",
    "\n",
    "def clean_sentences(sentences): #TO DELEGATE DATA_FRAME FUNCTION, TO GET RID OF COPIER\n",
    "    puncs = set((',', '.', '!', '?', ':', ':', '\"\"', '—', '«', '»', ')', '(', ';',\n",
    "                ', ', '. ', '! ', '? ', ': ', '\"\"', '— ', '« ', '» ', ') ', '(', '; ',\n",
    "                ' — ', ', — ', '; ', ' (', ' «', '-', '), ', ': «', '», ', ']',\n",
    "                '[', '] ', '–', '…'))\n",
    "    stopwords = nltk.corpus.stopwords.words('russian')\n",
    "    \n",
    "    sentences = [(letter.replace('\\n', ' ') for letter in sentence)\n",
    "                        for sentence in sentences]\n",
    "    sentences = [''.join(letter for letter in sentence if letter not in puncs)\n",
    "                        for sentence in sentences]\n",
    "    df = pd.DataFrame(sentences, columns=['text'])\n",
    "\n",
    "    return df\n",
    "\n",
    "#clean_sentences(sent)\n",
    "\n"
   ]
  },
  {
   "cell_type": "code",
   "execution_count": 163,
   "metadata": {
    "scrolled": true
   },
   "outputs": [],
   "source": [
    "ch = chapter_splitter('Fuji_lemmatizedUTF.txt', r'\\d\\.\\d.?\\s')\n",
    "chapter_gen = (sent_splitter(i) for i in ch)\n",
    "\n",
    "def clean_chapter_by_chapter(chapters):\n",
    "    puncs = set((',', '.', '!', '?', ':', ':', '\"\"', '—', '«', '»', ')', '(', ';',\n",
    "            ', ', '. ', '! ', '? ', ': ', '\"\"', '— ', '« ', '» ', ') ', '(', '; ',\n",
    "            ' — ', ', — ', '; ', ' (', ' «', '-', '), ', ': «', '», ', ']',\n",
    "            '[', '] ', '–', '…'))\n",
    "    for chapter in chapters:\n",
    "        for sentence in chapter:\n",
    "            sentences = ((letter.replace('\\n', ' ') for letter in sentence)\n",
    "                        for sentence in chapter)\n",
    "            sentences = (''.join(letter for letter in sentence if letter not in puncs)\n",
    "                        for sentence in sentences)\n",
    "    \n",
    "        df = pd.DataFrame(sentences, columns=['text'])\n",
    "\n",
    "        return df\n",
    "    \n",
    "#corpus = clean_chapter_by_chapter(chapter_gen)\n"
   ]
  },
  {
   "cell_type": "code",
   "execution_count": 226,
   "metadata": {
    "scrolled": true
   },
   "outputs": [],
   "source": [
    "ch = chapter_splitter('Fuji_lemmatizedUTF.txt', r'\\d\\.\\d.?\\s')\n",
    "chapter_gen = (sent_splitter(i) for i in ch)\n",
    "\n",
    "def clean_chapters(chapters): #DONE!!\n",
    "    puncs = set((',', '.', '!', '?', ':', ':', '\"\"', '—', '«', '»', ')', '(', ';',\n",
    "                ', ', '. ', '! ', '? ', ': ', '\"\"', '— ', '« ', '» ', ') ', '(', '; ',\n",
    "                ' — ', ', — ', '; ', ' (', ' «', '-', '), ', ': «', '», ', ']',\n",
    "                '[', '] ', '–', '…'))\n",
    "    stopwords = nltk.corpus.stopwords.words('russian')\n",
    "    \n",
    "    chapters = ((sentence.replace('\\n', ' ') for sentence in chapter)\n",
    "                        for chapter in chapters)\n",
    "    chapters = ((''.join(letter for letter in sentence if letter not in puncs)\n",
    "                        for sentence in chapter)\n",
    "                        for chapter in chapters)\n",
    "    chapters = (' '.join(sentence for sentence in chapter) for chapter in chapters)\n",
    "    df = pd.DataFrame(chapters, columns=['text'])\n",
    "\n",
    "    return df\n",
    "\n",
    "#corpus = clean_chapters(chapter_gen)\n",
    "#corpus"
   ]
  },
  {
   "cell_type": "code",
   "execution_count": 224,
   "metadata": {},
   "outputs": [],
   "source": [
    "from sklearn.feature_extraction.text import TfidfVectorizer\n",
    "from nltk.tokenize.casual import casual_tokenize\n",
    "\n",
    "tfidf = TfidfVectorizer(tokenizer=casual_tokenize)\n",
    "tfidf_docs = tfidf.fit_transform(raw_documents=corpus.text).toarray()\n",
    "\n",
    "tfidf_docs = pd.DataFrame(tfidf_docs)\n",
    "tfidf_docs = tfidf_docs - tfidf_docs.mean()\n",
    "#tfidf_docs.shape"
   ]
  },
  {
   "cell_type": "code",
   "execution_count": 223,
   "metadata": {
    "scrolled": true
   },
   "outputs": [],
   "source": [
    "from sklearn.decomposition import PCA\n",
    "\n",
    "pca = PCA(n_components=4)\n",
    "pca = pca.fit(tfidf_docs)\n",
    "pca_topic_vectors = pca.transform(tfidf_docs)\n",
    "index = ['chapter{}'.format(i) for i in range(len(corpus))]\n",
    "columns = ['topic{}'.format(i) for i in range(pca.n_components)]\n",
    "pca_topic_vectors = pd.DataFrame(pca_topic_vectors, columns=columns, index=index)\n",
    "#pca_topic_vectors.round(2).head(106)"
   ]
  },
  {
   "cell_type": "code",
   "execution_count": 189,
   "metadata": {},
   "outputs": [],
   "source": [
    "column_nums, terms = zip(*sorted(zip(tfidf.vocabulary_.values(), tfidf.vocabulary_.keys())))\n",
    "#terms"
   ]
  },
  {
   "cell_type": "code",
   "execution_count": 222,
   "metadata": {},
   "outputs": [],
   "source": [
    "weights = pd.DataFrame(pca.components_, columns=terms, index=['topic{}'.format(i) for i in range(4)])\n",
    "pd.options.display.max_columns = 8\n",
    "#weights.head(10).round(3)"
   ]
  },
  {
   "cell_type": "code",
   "execution_count": 220,
   "metadata": {},
   "outputs": [],
   "source": [
    "pd.options.display.max_columns = 12\n",
    "deals = weights['ящерица джан джана таня четвертый кларисса кокаин я будда'.split()].round(3)*100\n",
    "#deals"
   ]
  },
  {
   "cell_type": "code",
   "execution_count": 219,
   "metadata": {},
   "outputs": [],
   "source": [
    "#deals.T.sum()"
   ]
  },
  {
   "cell_type": "code",
   "execution_count": 218,
   "metadata": {
    "scrolled": true
   },
   "outputs": [],
   "source": [
    "from sklearn.decomposition import TruncatedSVD\n",
    "\n",
    "svd = TruncatedSVD(n_components=4, n_iter=100)\n",
    "svd_topic_vectors = svd.fit_transform(tfidf_docs.values)\n",
    "svd_topic_vectors = pd.DataFrame(svd_topic_vectors, columns=columns, index=index)\n",
    "#svd_topic_vectors.round(2).head(9)"
   ]
  },
  {
   "cell_type": "code",
   "execution_count": 200,
   "metadata": {},
   "outputs": [],
   "source": [
    "import numpy as np\n",
    "from sklearn.feature_extraction.text import CountVectorizer\n",
    "from nltk.tokenize import casual_tokenize\n",
    "np.random.seed(42)\n",
    "\n",
    "counter = CountVectorizer(tokenizer=casual_tokenize)\n",
    "bow_docs = pd.DataFrame(counter.fit_transform(raw_documents=corpus.text).toarray(), index=index)\n",
    "column_nums, terms = zip(*sorted(zip(counter.vocabulary_.values(), counter.vocabulary_.keys())))\n",
    "bow_docs.columns = terms"
   ]
  },
  {
   "cell_type": "code",
   "execution_count": 203,
   "metadata": {},
   "outputs": [],
   "source": [
    "#corpus.loc[2].text"
   ]
  },
  {
   "cell_type": "code",
   "execution_count": 221,
   "metadata": {},
   "outputs": [],
   "source": [
    "from sklearn.decomposition import LatentDirichletAllocation as LDiA\n",
    "\n",
    "ldia = LDiA(n_components=4, learning_method='batch')\n",
    "ldia = ldia.fit(bow_docs)\n",
    "#ldia.components_.shape"
   ]
  },
  {
   "cell_type": "code",
   "execution_count": 212,
   "metadata": {},
   "outputs": [],
   "source": [
    "pd.set_option('display.width', 75)\n",
    "components = pd.DataFrame(ldia.components_.T, index=terms, columns=columns)\n",
    "#components.round(2).head(50)"
   ]
  },
  {
   "cell_type": "code",
   "execution_count": 217,
   "metadata": {},
   "outputs": [],
   "source": [
    "#components.topic3.sort_values(ascending=False)[:60]"
   ]
  },
  {
   "cell_type": "code",
   "execution_count": null,
   "metadata": {},
   "outputs": [],
   "source": []
  }
 ],
 "metadata": {
  "kernelspec": {
   "display_name": "Python 3",
   "language": "python",
   "name": "python3"
  },
  "language_info": {
   "codemirror_mode": {
    "name": "ipython",
    "version": 3
   },
   "file_extension": ".py",
   "mimetype": "text/x-python",
   "name": "python",
   "nbconvert_exporter": "python",
   "pygments_lexer": "ipython3",
   "version": "3.8.5"
  }
 },
 "nbformat": 4,
 "nbformat_minor": 2
}
