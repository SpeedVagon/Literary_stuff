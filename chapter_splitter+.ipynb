{
 "cells": [
  {
   "cell_type": "code",
   "execution_count": 158,
   "metadata": {},
   "outputs": [
    {
     "ename": "UnboundLocalError",
     "evalue": "local variable 'sent_split' referenced before assignment",
     "output_type": "error",
     "traceback": [
      "\u001b[1;31m---------------------------------------------------------------------------\u001b[0m",
      "\u001b[1;31mUnboundLocalError\u001b[0m                         Traceback (most recent call last)",
      "\u001b[1;32m<ipython-input-158-0dd5be6f4cdc>\u001b[0m in \u001b[0;36m<module>\u001b[1;34m\u001b[0m\n\u001b[0;32m     97\u001b[0m         \u001b[1;32mreturn\u001b[0m \u001b[0mdf\u001b[0m\u001b[1;33m\u001b[0m\u001b[1;33m\u001b[0m\u001b[0m\n\u001b[0;32m     98\u001b[0m \u001b[1;33m\u001b[0m\u001b[0m\n\u001b[1;32m---> 99\u001b[1;33m \u001b[0mclean_sentences\u001b[0m\u001b[1;33m(\u001b[0m\u001b[0mch\u001b[0m\u001b[1;33m)\u001b[0m\u001b[1;33m\u001b[0m\u001b[1;33m\u001b[0m\u001b[0m\n\u001b[0m",
      "\u001b[1;32m<ipython-input-149-3ff69e91532e>\u001b[0m in \u001b[0;36mclean_sentences\u001b[1;34m(*args)\u001b[0m\n\u001b[0;32m     79\u001b[0m \u001b[1;33m\u001b[0m\u001b[0m\n\u001b[0;32m     80\u001b[0m     \u001b[0mmemo_lemmas_copy\u001b[0m \u001b[1;33m=\u001b[0m \u001b[1;33m[\u001b[0m\u001b[1;33m]\u001b[0m\u001b[1;33m\u001b[0m\u001b[1;33m\u001b[0m\u001b[0m\n\u001b[1;32m---> 81\u001b[1;33m     \u001b[1;32mfor\u001b[0m \u001b[0msentence\u001b[0m \u001b[1;32min\u001b[0m \u001b[0msent_split\u001b[0m\u001b[1;33m:\u001b[0m\u001b[1;33m\u001b[0m\u001b[1;33m\u001b[0m\u001b[0m\n\u001b[0m\u001b[0;32m     82\u001b[0m         \u001b[0mmemo_lemmas_copy\u001b[0m \u001b[1;33m+=\u001b[0m \u001b[1;33m[\u001b[0m\u001b[0mcopy\u001b[0m\u001b[1;33m.\u001b[0m\u001b[0mcopy\u001b[0m\u001b[1;33m(\u001b[0m\u001b[0msentence\u001b[0m\u001b[1;33m)\u001b[0m\u001b[1;33m]\u001b[0m\u001b[1;33m\u001b[0m\u001b[1;33m\u001b[0m\u001b[0m\n\u001b[0;32m     83\u001b[0m \u001b[1;33m\u001b[0m\u001b[0m\n",
      "\u001b[1;31mUnboundLocalError\u001b[0m: local variable 'sent_split' referenced before assignment"
     ]
    }
   ],
   "source": [
    "import re\n",
    "import os\n",
    "from os import path\n",
    "import types\n",
    "import nltk\n",
    "import copy\n",
    "import pandas as pd\n",
    "\n",
    "\"\"\"The function splits up .txt utf-8 file into separate files by chapters and saves them in corpus_data directory.\n",
    "To call the function, put a file-path and re-pattern as arguments. Returns a generator with file-paths of the chapters \n",
    "for processing by other functions\"\"\"\n",
    "def chapter_splitter(file, pattern):\n",
    "\n",
    "    if path.exists('C:\\\\Users\\\\administrator\\\\corpus_data\\\\') == True: #To change the path and make it more flexibleS\n",
    "        pass\n",
    "    elif path.exists('C:\\\\Users\\\\administrator\\\\corpus_data\\\\') == False:\n",
    "        os.mkdir('corpus_data')\n",
    "    \n",
    "    pattern = re.compile(pattern)\n",
    "\n",
    "    with open(file, 'r', encoding='utf-8') as fp:\n",
    "        doc = fp.readlines()\n",
    "        n = 0 #Chapter number counter\n",
    "        chapter_path = []\n",
    "        for line in doc:\n",
    "            if n == 0:\n",
    "                output = open('corpus_data\\intro.txt'.format(n), 'w', encoding='utf-8') #TO FIX INTRO!!\n",
    "                output.write(line)\n",
    "            matches = pattern.finditer(line)\n",
    "\n",
    "            for match in matches:\n",
    "                n += 1\n",
    "                output = open('corpus_data\\chapter_{}.txt'.format(n), 'w', encoding='utf-8')\n",
    "                chapter_path += ['corpus_data\\\\chapter_{}.txt'.format(n)]\n",
    "            output.write(line)\n",
    "\n",
    "        output.close()\n",
    "        print(chapter_path)\n",
    "        for i in chapter_path: yield i\n",
    "    \n",
    "#chapter_splitter('Fuji.txt', r'\\d\\.\\d.?\\s')\n",
    "\n",
    "\n",
    "\n",
    "from nltk.tokenize import sent_tokenize\n",
    "\"\"\"Splits text on sentences and saves them into a list. Takes on filepath as an argument (string)\n",
    "    or multiple filepaths packed in a list or a generator. Removes punctuation\"\"\"\n",
    "def sent_splitter(*args):\n",
    "    if isinstance(args, str):\n",
    "        fp = open(*args, 'r', encoding='utf-8')\n",
    "        data = fp.read()\n",
    "        sent_split = sent_tokenize(data)\n",
    "        print('The file type is string')\n",
    "        return sent_split\n",
    "\n",
    "    \n",
    "    elif isinstance(args, tuple):\n",
    "        for t in args:\n",
    "            for file in t:\n",
    "                print(file)\n",
    "                with open(file, 'r', encoding='utf-8') as fp:\n",
    "                    data = fp.read()\n",
    "                    sent_split = sent_tokenize(data)\n",
    "                    print('The file type is a generator')\n",
    "                    return sent_split\n",
    "\n",
    "        \n",
    "    elif isinstance(args, list):\n",
    "        for l in args:\n",
    "            for file in l:\n",
    "                with open(file, 'r', encoding='utf-8') as fp:\n",
    "                    data = fp.read()\n",
    "                    sent_split = sent_tokenize(data)\n",
    "                    return sent_split\n",
    "\n",
    "    else:\n",
    "        print('Unexpected error occured. The data type is {}'.format(type(*args)))\n",
    "\n",
    "    def clean_sentences(sent_split):\n",
    "        puncs = set((',', '.', '!', '?', ':', ':', '\"\"', '—', '«', '»', ')', '(', ';',\n",
    "                     ', ', '. ', '! ', '? ', ': ', '\"\"', '— ', '« ', '» ', ') ', '(', '; ',\n",
    "                ' — ', ', — ', '; ', ' (', ' «', '-', '), ', ': «', '», ', ']',\n",
    "                '[', '] ', '1', '2', '3', '4', '5', '6', '7', '8', '9', '0', '–', '…'))\n",
    "        stopwords = nltk.corpus.stopwords.words('russian')\n",
    "    \n",
    "        memo_lemmas_copy = []\n",
    "        for sentence in sent_split:\n",
    "            memo_lemmas_copy += [copy.copy(sentence)]\n",
    "        \n",
    "        memo_lemmas_copy = [(letter.replace('\\n', ' ') for letter in sentence)\n",
    "                           for sentence in memo_lemmas_copy]\n",
    "        memo_lemmas_copy = [''.join(letter for letter in sentence if letter not in puncs)\n",
    "                            for sentence in memo_lemmas_copy]\n",
    "\n",
    "        df = pd.DataFrame(memo_lemmas_copy, columns=['text'])\n",
    "        fp.close()\n",
    "        return df\n",
    "\n",
    "clean_sentences(ch)\n"
   ]
  },
  {
   "cell_type": "code",
   "execution_count": 136,
   "metadata": {},
   "outputs": [
    {
     "data": {
      "text/plain": [
       "True"
      ]
     },
     "execution_count": 136,
     "metadata": {},
     "output_type": "execute_result"
    }
   ],
   "source": [
    "l = [1, 2, 3]\n",
    "m = (i for i in l)\n",
    "s = 'A string'\n",
    "type(l)\n",
    "type(m)\n",
    "isinstance(m, types.GeneratorType)\n"
   ]
  },
  {
   "cell_type": "code",
   "execution_count": null,
   "metadata": {},
   "outputs": [],
   "source": []
  }
 ],
 "metadata": {
  "kernelspec": {
   "display_name": "Python 3",
   "language": "python",
   "name": "python3"
  },
  "language_info": {
   "codemirror_mode": {
    "name": "ipython",
    "version": 3
   },
   "file_extension": ".py",
   "mimetype": "text/x-python",
   "name": "python",
   "nbconvert_exporter": "python",
   "pygments_lexer": "ipython3",
   "version": "3.8.5"
  }
 },
 "nbformat": 4,
 "nbformat_minor": 2
}
